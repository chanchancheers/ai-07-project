{
  "nbformat": 4,
  "nbformat_minor": 0,
  "metadata": {
    "colab": {
      "name": "PROJECT1.ipynb",
      "private_outputs": true,
      "provenance": [],
      "collapsed_sections": []
    },
    "kernelspec": {
      "name": "python3",
      "display_name": "Python 3"
    },
    "language_info": {
      "name": "python"
    }
  },
  "cells": [
    {
      "cell_type": "markdown",
      "metadata": {
        "id": "qxRqUstJ_8P9"
      },
      "source": [
        "#발표에 반드시 포함되어야 하는 내용은 다음과 같습니다.\n",
        "\n",
        "##1. **지역에 따라서** 선호하는 **게임 장르**가 다를까 라는 질문에 대답을 하셔야합니다.\n",
        "##2. **연도별 게임의 트렌드**가 있을까 라는 질문에 대답을 하셔야합니다.\n",
        "##3. **출고량이 높은 게임**에 대한 **분석 및 시각화 프로세스**가 포함되어야 합니다.\n",
        "\n",
        "위 3가지 내용과 여러분들의 개인적인 분석 목표, 질문을 더하여 프로젝트를 완성하세요."
      ]
    },
    {
      "cell_type": "code",
      "metadata": {
        "id": "GGKOYL9v56yk"
      },
      "source": [
        "from google.colab import drive\n",
        "drive.mount('/gdrive')"
      ],
      "execution_count": null,
      "outputs": []
    },
    {
      "cell_type": "code",
      "metadata": {
        "id": "9XmrmNNE6fy3"
      },
      "source": [
        "import pandas as pd\n",
        "import numpy as np\n",
        "from sklearn.cluster import KMeans \n",
        "from sklearn.preprocessing import StandardScaler\n",
        "from sklearn.preprocessing import Normalizer\n",
        "from sklearn.decomposition import PCA\n",
        "from scipy import stats\n",
        "import matplotlib.pyplot as plt\n",
        "import datetime\n",
        "from scipy.stats import chisquare"
      ],
      "execution_count": null,
      "outputs": []
    },
    {
      "cell_type": "code",
      "metadata": {
        "id": "ACcHjihh6UjG"
      },
      "source": [
        "file = '/gdrive/My Drive/PROJECT_section1/vgames2.csv'\n",
        "vgm = pd.read_csv(file, index_col = 0 )"
      ],
      "execution_count": null,
      "outputs": []
    },
    {
      "cell_type": "code",
      "metadata": {
        "id": "34J86SefapmU"
      },
      "source": [
        "vgm.head(20)"
      ],
      "execution_count": null,
      "outputs": []
    },
    {
      "cell_type": "code",
      "metadata": {
        "id": "o4fe7mprCuVP"
      },
      "source": [
        "#각 구역 결측치 대체\n",
        "vgm['Year'].fillna('0000', inplace=True)\n",
        "vgm['Genre'].fillna('Unknown', inplace=True)\n",
        "vgm['Publisher'].fillna('Unknown', inplace=True)\n"
      ],
      "execution_count": null,
      "outputs": []
    },
    {
      "cell_type": "markdown",
      "metadata": {
        "id": "jGQPPi38ejAY"
      },
      "source": [
        "# Year/Genre/Publisher 결측치 가진 항목 중 같은 게임 다른 플랫폼 게임에서 데이터 따와서 결측치 최대한 제거"
      ]
    },
    {
      "cell_type": "code",
      "metadata": {
        "id": "UiGlpL6UtnMF"
      },
      "source": [
        "# 결측치가 있는 row만 따로 모은다.\n",
        "vgm_null_year = pd.DataFrame(vgm[vgm['Year']== '0000'])\n",
        "vgm_null_gen = pd.DataFrame(vgm[vgm['Genre']=='Unknown'])\n",
        "vgm_null_pub = pd.DataFrame(vgm[vgm['Publisher']=='Unknown'])"
      ],
      "execution_count": null,
      "outputs": []
    },
    {
      "cell_type": "code",
      "metadata": {
        "id": "YWZn6mjsdeNL"
      },
      "source": [
        "#따로 모은 DF의 각 게임의 이름을 전체 DF에서 찾아 만약 데이터가 있으면 복사.\n",
        "\n",
        "for i in range(len(vgm_null_year)) :\n",
        "    x = pd.Series(vgm_null_year.iloc[i])\n",
        "    for j in range(len(vgm[vgm['Name'] == x[0]].index)):\n",
        "        y = pd.Series(vgm[vgm['Name'] == x[0]].iloc[j])\n",
        "        if y[2] != '0000' and x[2] == '0000' :\n",
        "            x[2] = y[2]\n",
        "            vgm_null_year.iloc[i] = x\n",
        "\n",
        "for i in range(len(vgm_null_gen)) :\n",
        "    x = pd.Series(vgm_null_gen.iloc[i])\n",
        "    for j in range(len(vgm[vgm['Name'] == x[0]].index)):\n",
        "        y = pd.Series(vgm[vgm['Name'] == x[0]].iloc[j])\n",
        "        if y[3] != 'Unknown' and x[3] == 'Unknown' :\n",
        "            x[3] = y[3]\n",
        "            vgm_null_gen.iloc[i] = x\n",
        "\n",
        "\n",
        "for i in range(len(vgm_null_pub)) :\n",
        "    x = pd.Series(vgm_null_pub.iloc[i])\n",
        "    for j in range(len(vgm[vgm['Name'] == x[0]].index)):\n",
        "        y = pd.Series(vgm[vgm['Name'] == x[0]].iloc[j])\n",
        "        if y[4] != 'Unknown' and x[4] == 'Unknown' :\n",
        "            x[4] = y[4]\n",
        "            vgm_null_pub.iloc[i] = x"
      ],
      "execution_count": null,
      "outputs": []
    },
    {
      "cell_type": "code",
      "metadata": {
        "id": "F_IYY3grd6vi"
      },
      "source": [
        "#복사되어 데이터가 있는 vgm_null_XXX를 기존 DF에 복사해서 넣기\n",
        "for i in vgm_null_year.index :\n",
        "    vgm.loc[i] = pd.Series(vgm_null_year.loc[i])\n",
        "\n",
        "for i in vgm_null_gen.index :\n",
        "    vgm.loc[i] = pd.Series(vgm_null_gen.loc[i])\n",
        "\n",
        "for i in vgm_null_pub.index :\n",
        "    vgm.loc[i] = pd.Series(vgm_null_pub.loc[i])\n"
      ],
      "execution_count": null,
      "outputs": []
    },
    {
      "cell_type": "code",
      "metadata": {
        "id": "ts0wu6wW-5eL"
      },
      "source": [
        "# Year - string으로 변환\n",
        "def toStr(x) :    \n",
        "    x = str(x)[:4]\n",
        "    x = x.split('.')[0]\n",
        "    return x\n",
        "\n",
        "# Year - date형(int?)으로 전환\n",
        "def toDate(x) : \n",
        "    if len(x) == 4 and x !='0000'  :\n",
        "        return datetime.datetime.strptime(x, '%Y').year\n",
        "    elif x == '0000' :\n",
        "        return int(x)\n",
        "    elif len(x) == 2 :\n",
        "        if int(x[0]) <= 2:\n",
        "            x = '20' + x\n",
        "            return datetime.datetime.strptime(x, '%Y').year       \n",
        "        else :\n",
        "            x = '19'+x\n",
        "            return datetime.datetime.strptime(x, '%Y').year\n",
        "    else :\n",
        "        x= '200'+x\n",
        "        return datetime.datetime.strptime(x, '%Y').year\n",
        "\n",
        "        \n",
        "\n",
        "vgm['Year'] = vgm['Year'].apply(toStr)\n",
        "vgm['Year'] = vgm['Year'].apply(toDate)\n",
        "# vgm['Year'].value_counts()"
      ],
      "execution_count": null,
      "outputs": []
    },
    {
      "cell_type": "code",
      "metadata": {
        "id": "A1NWi2eJbK6i"
      },
      "source": [
        "#판매량 수치 조절 / M은 걍 지워주고, K는 지우고 0.001 곱해준다\n",
        "def uniform(x):\n",
        "    if \"M\" in x :\n",
        "        x= x.replace('M','')\n",
        "        return  float(x)\n",
        "    elif \"K\" in x :\n",
        "        x = x.replace('K','')\n",
        "        return 0.001 * float(x)\n",
        "    else :\n",
        "        return float(x)\n",
        "    \n",
        "vgm['NA_Sales'] = vgm['NA_Sales'].apply(uniform)\n",
        "vgm['EU_Sales'] = vgm['EU_Sales'].apply(uniform)\n",
        "vgm['JP_Sales'] = vgm['JP_Sales'].apply(uniform)\n",
        "vgm['Other_Sales'] = vgm['Other_Sales'].apply(uniform)\n"
      ],
      "execution_count": null,
      "outputs": []
    },
    {
      "cell_type": "code",
      "metadata": {
        "id": "CzRBiFOAfnfW"
      },
      "source": [
        "vgm_null_year1 = pd.DataFrame(vgm[vgm['Year']== 0])\n",
        "vgm_null_gen1 = pd.DataFrame(vgm[vgm['Genre']=='Unknown'])\n",
        "vgm_null_pub1 = pd.DataFrame(vgm[vgm['Publisher']=='Unknown'])"
      ],
      "execution_count": null,
      "outputs": []
    },
    {
      "cell_type": "markdown",
      "metadata": {
        "id": "YBLV0Vboyhz5"
      },
      "source": [
        "#**전처리 완료\n",
        "\n",
        "#** Feature Engineering start"
      ]
    },
    {
      "cell_type": "code",
      "metadata": {
        "id": "QU49dKYzf2NI"
      },
      "source": [
        "vgm['Total_Sales'] = vgm['NA_Sales']+ vgm['EU_Sales']+ vgm['JP_Sales']+ vgm['Other_Sales']"
      ],
      "execution_count": null,
      "outputs": []
    },
    {
      "cell_type": "code",
      "metadata": {
        "id": "a6fSFrHp5eta"
      },
      "source": [
        "# 년도별로 정렬하고 결측치는 마지막에 덧붙인다\n",
        "vgm.sort_values(by = 'Year', axis = 0, ascending=True, inplace=True)\n",
        "\n",
        "vgm_year_0 = vgm[vgm['Year']==0]\n",
        "\n",
        "vgm_year = vgm[vgm['Year'] != 0]\n",
        "\n",
        "#결측치는 Unknown으로 설정하고 뒤에 덧붙인다\n"
      ],
      "execution_count": null,
      "outputs": []
    },
    {
      "cell_type": "code",
      "metadata": {
        "id": "a3UZrkJqRlFN"
      },
      "source": [
        "#연도별 binning ==>> vgm_year 결측치는 없애고 연도별로 Binning하고 Feature 추가\n",
        "min_year = vgm_year['Year'].min()\n",
        "max_year = vgm_year['Year'].max()\n",
        "bin_year = np.array([1980, 1990, 2000, 2005, 2010, 2015, 2020])\n",
        "label_year = np.array(['~1990', '~2000', '~2005', '~2010', '~2015', '~2020'])\n",
        "vgm_year['Period'] = pd.cut(vgm_year['Year'], bins = bin_year, labels= label_year, include_lowest=True)\n",
        "\n",
        "# Year 결측치는 Unknown으로 범주 설정\n",
        "vgm_year_0['Period'] = 'Unknown'\n",
        "\n",
        "vgm = pd.concat([vgm_year, vgm_year_0])\n",
        "\n",
        "vgm.reset_index(drop=True, inplace=True)"
      ],
      "execution_count": null,
      "outputs": []
    },
    {
      "cell_type": "code",
      "metadata": {
        "id": "MCjwE7kWy-fC"
      },
      "source": [
        "vgm.groupby('Period').Total_Sales.sum()"
      ],
      "execution_count": null,
      "outputs": []
    },
    {
      "cell_type": "code",
      "metadata": {
        "id": "a7s6zx29UHV4"
      },
      "source": [
        "# plt.hist(vgm['Period'], bins=6)"
      ],
      "execution_count": null,
      "outputs": []
    },
    {
      "cell_type": "code",
      "metadata": {
        "id": "LXo7fJ6vyeiX"
      },
      "source": [
        "#vgm_gen_loc == 장르별 나라 판매량 / 나라별 장르 판매량\n",
        "\n",
        "vgm_gen_loc = vgm.groupby('Genre').mean()\n",
        "vgm_gen_loc = vgm_gen_loc.drop('Year', axis = 1)\n",
        "# vgm_gen_loc = vgm_gen_loc.drop('Unknown', axis = 0)\n",
        "vgm_gen_loc = vgm_gen_loc.drop('Total_Sales', axis = 1)\n",
        "# vgm_gen_loc =  vgm_gen_loc.T\n",
        "vgm_gen_loc1 = vgm_gen_loc.drop('Unknown', axis=0) "
      ],
      "execution_count": null,
      "outputs": []
    },
    {
      "cell_type": "code",
      "metadata": {
        "id": "sZPIdH1oqkmh"
      },
      "source": [
        "def gen_variance_loc(df, header) :\n",
        "    # fig, axes = plt.subplots()\n",
        "    colors = ['red', 'orange', 'yellow','dimgray','dimgray','dimgrey','darkgray','silver','lightgrey','lightgrey','lightgrey','lightgrey','lightgrey']\n",
        "    plt.figure(figsize=(16,8), dpi=80)\n",
        "    plt.bar(df.index, df[header])\n",
        "    plt.title((header + ('\\' Genre variance')))\n",
        "    plt.show()\n",
        "gen_variance_loc(vgm_gen_loc1, 'NA_Sales')\n",
        "gen_variance_loc(vgm_gen_loc1, 'EU_Sales')\n",
        "gen_variance_loc(vgm_gen_loc1, 'JP_Sales')\n",
        "gen_variance_loc(vgm_gen_loc1, 'Other_Sales')\n"
      ],
      "execution_count": null,
      "outputs": []
    },
    {
      "cell_type": "code",
      "metadata": {
        "id": "BRhr1G62L-Ge"
      },
      "source": [
        "# stats.chi2_contingency(vgm_gen_loc)\n",
        "# stats.ttest_1samp(vgm_gen_loc['JP_Sales'], np.mean(vgm_gen_loc['JP_Sales']))\n",
        "# scale = StandardScaler()\n",
        "# vgm_gen_locZ = pd.DataFrame(scale.fit_transform(vgm_gen_loc.T))\n",
        "# vgm_gen_locZ\n"
      ],
      "execution_count": null,
      "outputs": []
    },
    {
      "cell_type": "code",
      "metadata": {
        "id": "Vlan54dmmY_z"
      },
      "source": [
        "# North America에서 장르별 선호가 있는지?\n",
        "p_gen_NA = stats.chisquare(vgm_gen_loc['NA_Sales']*1000) # P_value가 0.05 이하 ==> 선호가 있다!\n",
        "\n",
        "\n",
        "#각 row를 가지고 분포 차이 ANOVA test == 각 나라별로 선호하는 장르의 차이가 있는지?\n",
        "p_gen_loc = stats.f_oneway(vgm_gen_loc['NA_Sales'],vgm_gen_loc['EU_Sales'],vgm_gen_loc['JP_Sales'],vgm_gen_loc['Other_Sales']).pvalue #각 나라별 판매량의 분산이 서로 다르다!\n",
        "\n",
        "\n",
        "# scaler = StandardScaler()\n",
        "# vgm_gen_locZ = pd.DataFrame(scaler.fit_transform(vgm_gen_loc))\n",
        "# vgm_gen_locZ\n",
        "# newind = vgm_gen_loc.index\n",
        "# newheader = vgm_gen_loc.columns\n",
        "# vgm_gen_locZ.columns = newheader\n",
        "# vgm_gen_locZ.index = newind\n",
        "# # vgm_gen_loc.corr()"
      ],
      "execution_count": null,
      "outputs": []
    },
    {
      "cell_type": "code",
      "metadata": {
        "id": "gg8fgk6ZQdhD"
      },
      "source": [
        "# # vgm_gen_locZ\n",
        "# p_gen_loc = stats.f_oneway(vgm_gen_locZ['NA_Sales'],vgm_gen_locZ['EU_Sales'],vgm_gen_locZ['JP_Sales'],vgm_gen_locZ['Other_Sales']).pvalue\n",
        "p_gen_loc"
      ],
      "execution_count": null,
      "outputs": []
    },
    {
      "cell_type": "code",
      "metadata": {
        "id": "S-gAlYxiLFsj"
      },
      "source": [
        ""
      ],
      "execution_count": null,
      "outputs": []
    },
    {
      "cell_type": "markdown",
      "metadata": {
        "id": "lJWCAQh5Yv2u"
      },
      "source": [
        "##아래는 게임(이름)별 판매량 top~"
      ]
    },
    {
      "cell_type": "code",
      "metadata": {
        "id": "FyMVdtxeVF-y"
      },
      "source": [
        "# 플랫폼 무시하고 이름으로 묶어서 전체기간 판매량 top == vgm_name_total\n",
        "\n",
        "\n",
        "vgm_by_name_all = vgm.groupby(['Name','Genre','Publisher']).sum() #groupby에 'Period'를 넣으면 같은 게임이라도 다른 Period로 분류되는 게임들이 생겨서 값이 늘어남.\n",
        "vgm_name_total = vgm_by_name_all.sort_values('Total_Sales', ascending=False)\n",
        "vgm_name_total.drop('Year', axis=1, inplace=True)\n",
        "vgm_name_total.reset_index(inplace=True)"
      ],
      "execution_count": null,
      "outputs": []
    },
    {
      "cell_type": "code",
      "metadata": {
        "id": "b_Id8J_I7uh7"
      },
      "source": [
        "vgm_name_total"
      ],
      "execution_count": null,
      "outputs": []
    },
    {
      "cell_type": "code",
      "metadata": {
        "id": "dYa1hzsCWRTE"
      },
      "source": [
        "# vgm_top_individual / 이름으로 안 묶었을 때(플랫폼 별도) 전체 기간 top\n",
        "\n",
        "vgm_top_individual = vgm.sort_values('Total_Sales',ascending=False)\n",
        "vgm_top_individual.reset_index(drop=True, inplace=True)\n",
        "vgm_top_individual"
      ],
      "execution_count": null,
      "outputs": []
    },
    {
      "cell_type": "markdown",
      "metadata": {
        "id": "aWJdCZzTKgMi"
      },
      "source": [
        "#아래는 연도별 게임 판매량 1위"
      ]
    },
    {
      "cell_type": "code",
      "metadata": {
        "id": "d4n35nv1oBnB"
      },
      "source": [
        "#연도별 탑 게임 (플랫폼 별도)\n",
        "\n",
        "vgm_period_total = pd.melt(vgm, id_vars = ['Period','Name','Platform','Genre','Publisher'], \n",
        "              value_vars = ['Total_Sales'],\n",
        "               )\n",
        "vgm_period_total.groupby('Period').max()\n",
        "\n",
        "\n",
        "\n",
        "topgame_1990 = vgm_period_total[vgm_period_total['Period']=='~1990'].sort_values('value', ascending=False).head(1) \n",
        "topgame_2000 = vgm_period_total[vgm_period_total['Period']=='~2000'].sort_values('value', ascending=False).head(1) \n",
        "topgame_2005 = vgm_period_total[vgm_period_total['Period']=='~2005'].sort_values('value', ascending=False).head(1) \n",
        "topgame_2010 = vgm_period_total[vgm_period_total['Period']=='~2010'].sort_values('value', ascending=False).head(1) \n",
        "topgame_2015 = vgm_period_total[vgm_period_total['Period']=='~2015'].sort_values('value', ascending=False).head(1) \n",
        "topgame_2020 = vgm_period_total[vgm_period_total['Period']=='~2020'].sort_values('value', ascending=False).head(1) \n",
        "\n",
        "topgame_unknown = vgm_period_total[vgm_period_total['Period']=='Unknown'].sort_values('value', ascending=False).head(1) \n"
      ],
      "execution_count": null,
      "outputs": []
    },
    {
      "cell_type": "code",
      "metadata": {
        "id": "_vI36W4u-4dE"
      },
      "source": [
        "vgm_period_total"
      ],
      "execution_count": null,
      "outputs": []
    },
    {
      "cell_type": "code",
      "metadata": {
        "id": "n83FkMLzN1i4"
      },
      "source": [
        "vgm_period_total.sort_values('value', ascending=False)"
      ],
      "execution_count": null,
      "outputs": []
    },
    {
      "cell_type": "code",
      "metadata": {
        "id": "fTwCyP4fQNXN"
      },
      "source": [
        ""
      ],
      "execution_count": null,
      "outputs": []
    },
    {
      "cell_type": "code",
      "metadata": {
        "id": "IUJ3Cdz9kvBi"
      },
      "source": [
        "#  연도별 판매량 탑 리스트\n",
        "\n",
        "vgm_1990_total = vgm_period_total[vgm_period_total['Period']=='~1990'].sort_values('value', ascending=False).reset_index(drop=True)\n",
        "vgm_2000_total = vgm_period_total[vgm_period_total['Period']=='~2000'].sort_values('value', ascending=False).reset_index(drop=True)\n",
        "vgm_2005_total = vgm_period_total[vgm_period_total['Period']=='~2005'].sort_values('value', ascending=False).reset_index(drop=True)\n",
        "vgm_2010_total = vgm_period_total[vgm_period_total['Period']=='~2010'].sort_values('value', ascending=False).reset_index(drop=True)\n",
        "vgm_2015_total = vgm_period_total[vgm_period_total['Period']=='~2015'].sort_values('value', ascending=False).reset_index(drop=True)\n",
        "vgm_2020_total = vgm_period_total[vgm_period_total['Period']=='~2020'].sort_values('value', ascending=False).reset_index(drop=True)\n",
        "\n",
        "\n"
      ],
      "execution_count": null,
      "outputs": []
    },
    {
      "cell_type": "code",
      "metadata": {
        "id": "CdjLokCm6AVT"
      },
      "source": [
        "vgm_1990_total"
      ],
      "execution_count": null,
      "outputs": []
    },
    {
      "cell_type": "code",
      "metadata": {
        "id": "nDR-JEuKdOi8"
      },
      "source": [
        ""
      ],
      "execution_count": null,
      "outputs": []
    },
    {
      "cell_type": "markdown",
      "metadata": {
        "id": "zFu7a86hKp7i"
      },
      "source": [
        "#아래는 연도별 장르 트렌드 (장르별 출시게임 수)"
      ]
    },
    {
      "cell_type": "code",
      "metadata": {
        "id": "gyPPs_yeDAkZ"
      },
      "source": [
        "vgm_period_gen = pd.melt(vgm, id_vars = ['Period','Name'], \n",
        "              value_vars = ['Genre'], var_name='Genre', value_name='genre_name'\n",
        "               )\n",
        "vgm_period_gen1 = pd.DataFrame(vgm_period_gen.groupby('Period').genre_name.value_counts())\n",
        "pd.set_option('display.max_rows', 100)\n",
        "\n",
        "vgm_period_gen1.rename(columns={'genre_name' : 'numbers' }, inplace=True)\n",
        "\n",
        "vgm_period_gen1.reset_index(inplace=True)\n",
        "\n",
        "vgm_gen_1990 = vgm_period_gen1[vgm_period_gen1['Period']=='~1990'].drop('Period', axis=1)\n",
        "vgm_gen_2000 = vgm_period_gen1[vgm_period_gen1['Period']=='~2000'].drop('Period', axis=1)\n",
        "vgm_gen_2005 = vgm_period_gen1[vgm_period_gen1['Period']=='~2005'].drop('Period', axis=1)\n",
        "vgm_gen_2010 = vgm_period_gen1[vgm_period_gen1['Period']=='~2010'].drop('Period', axis=1)\n",
        "vgm_gen_2015 = vgm_period_gen1[vgm_period_gen1['Period']=='~2015'].drop('Period', axis=1)\n",
        "vgm_gen_2020 = vgm_period_gen1[vgm_period_gen1['Period']=='~2020'].drop('Period', axis=1)\n",
        "vgm_gen_unknown = vgm_period_gen1[vgm_period_gen1['Period']=='Unknown'].drop('Period', axis=1)\n",
        "\n",
        "vgm_gen_1990\n",
        "# plt.figure(figsize=(16,8), dpi=80)\n",
        "# plt.bar(vgm_gen_1990['genre_name'], vgm_gen_1990['numbers'])\n",
        "# colors = ['black','dimgray','dimgrey','darkgray','silver','lightgrey']\n",
        "def period_gen_plot(df, year) :\n",
        "    # fig, axes = plt.subplots()\n",
        "    colors = ['red', 'orange', 'yellow','dimgray','dimgray','dimgrey','darkgray','silver','lightgrey','lightgrey','lightgrey','lightgrey','lightgrey']\n",
        "    plt.figure(figsize=(16,8), dpi=80)\n",
        "    plt.bar(df['genre_name'], df['numbers'], color = colors)\n",
        "    if year == 'Unknown' :\n",
        "        plt.title('Trend in Genre for Unknown period', fontsize = 35)\n",
        "    else : \n",
        "        plt.title('~' + str(year)+'\\'s trend in game genre', fontsize = 35)\n",
        "    plt.show()\n",
        "# #연도별 장르 수 그래프 그리기    \n",
        "# period_gen_plot(vgm_gen_1990,1990)\n",
        "# period_gen_plot(vgm_gen_2000,2000)\n",
        "# period_gen_plot(vgm_gen_2005,2005)\n",
        "# period_gen_plot(vgm_gen_2010,2010)\n",
        "# period_gen_plot(vgm_gen_2015,2015)\n",
        "# period_gen_plot(vgm_gen_2020,2020)\n",
        "# period_gen_plot(vgm_gen_unknown,'Unknown')\n"
      ],
      "execution_count": null,
      "outputs": []
    },
    {
      "cell_type": "code",
      "metadata": {
        "id": "AgtaNA2Pmm4X"
      },
      "source": [
        "vgm_gen_2020"
      ],
      "execution_count": null,
      "outputs": []
    },
    {
      "cell_type": "code",
      "metadata": {
        "id": "t-OSQSyFrhwj"
      },
      "source": [
        "# stats.f_oneway(vgm_gen_2020,vgm_gen_2015,vgm_gen_2010,vgm_gen_2005,vgm_gen_2000,vgm_gen_1990)\n",
        "\n",
        "# 각 연도별 출시량을 통한 선호도가 있나?\n",
        "stats.chisquare(vgm_gen_2020['numbers']).pvalue\n",
        "def trend_chi(x) :\n",
        "    y = stats.chisquare(x).pvalue\n",
        "    if y < 0.05 :\n",
        "        print('There is something. P_value : ', y)\n",
        "    else : \n",
        "        print('No remarkable differences')\n",
        "trend_chi(vgm_gen_2020['numbers'])\n"
      ],
      "execution_count": null,
      "outputs": []
    },
    {
      "cell_type": "markdown",
      "metadata": {
        "id": "ZuFwLwl3LeBL"
      },
      "source": [
        "#연도별 장르의 판매량 확인 필요below"
      ]
    },
    {
      "cell_type": "code",
      "metadata": {
        "id": "2bpv4oHgLjrC"
      },
      "source": [
        "# vgm_period_gen2 = pd.melt(vgm_year, id_vars = ['Period','Genre'], \n",
        "#               value_vars = [''], var_name='Genre', value_name='genre_name'\n",
        "#                )\n",
        "# vgm_period_gen2\n",
        "\n",
        "vgm_period_genS = vgm.groupby('Period').Genre.value_counts()\n",
        "vgm_period_genS\n",
        "vgm_gen_total = pd.DataFrame(vgm.groupby(['Period','Genre']).Total_Sales.sum())\n",
        "vgm_gen_total.reset_index(inplace=True)\n",
        "\n",
        "def period_gen_sales_plot(df, year) :\n",
        "    # fig, axes = plt.subplots()\n",
        "    colors = ['red', 'orange', 'yellow','dimgray','dimgray','dimgrey','darkgray','silver','lightgrey','lightgrey','lightgrey','lightgrey','lightgrey']\n",
        "    plt.figure(figsize=(16,8), dpi=80)\n",
        "    # plt.ylim(0,15)\n",
        "    plt.bar(df['Genre'], df['Total_Sales'])\n",
        "    plt.title('~' + str(year)+'\\'s Total sales by game genre', fontsize = 35)\n",
        "    plt.show()\n",
        "\n",
        "vgm_gen_total1990 = vgm_gen_total[vgm_gen_total['Period']=='~1990'].drop('Period', axis=1)\n",
        "vgm_gen_total2000 = vgm_gen_total[vgm_gen_total['Period']=='~2000'].drop('Period', axis=1)\n",
        "vgm_gen_total2005 = vgm_gen_total[vgm_gen_total['Period']=='~2005'].drop('Period', axis=1)\n",
        "vgm_gen_total2010 = vgm_gen_total[vgm_gen_total['Period']=='~2010'].drop('Period', axis=1)\n",
        "vgm_gen_total2015 = vgm_gen_total[vgm_gen_total['Period']=='~2015'].drop('Period', axis=1)\n",
        "vgm_gen_total2020 = vgm_gen_total[vgm_gen_total['Period']=='~2020'].drop('Period', axis=1)\n",
        "vgm_gen_total_unknown = vgm_gen_total[vgm_gen_total['Period']=='Unknown'].drop('Period', axis=1)\n",
        "\n",
        "\n",
        "# vgm_gen_total2015\n"
      ],
      "execution_count": null,
      "outputs": []
    },
    {
      "cell_type": "code",
      "metadata": {
        "id": "VpFaZ5wxD3NI"
      },
      "source": [
        "# #연도별 장르별 게임 수\n",
        "\n",
        "# period_gen_plot(vgm_gen_1990,1990)\n",
        "# period_gen_plot(vgm_gen_2000,2000)\n",
        "# period_gen_plot(vgm_gen_2005,2005)\n",
        "# period_gen_plot(vgm_gen_2010,2010)\n",
        "# period_gen_plot(vgm_gen_2015,2015)\n",
        "# period_gen_plot(vgm_gen_2020,2020)\n",
        "# period_gen_plot(vgm_gen_unknown,'Unknown')\n",
        "\n",
        "\n",
        "# #연도별 장르별 게임 실제 판매량 그래프\n",
        "\n",
        "# period_gen_sales_plot(vgm_gen_total1990, 1990)\n",
        "# period_gen_sales_plot(vgm_gen_total2000, 2000)\n",
        "# period_gen_sales_plot(vgm_gen_total2005, 2005)\n",
        "# period_gen_sales_plot(vgm_gen_total2010, 2010)\n",
        "# period_gen_sales_plot(vgm_gen_total2015, 2015)\n",
        "# period_gen_sales_plot(vgm_gen_total2020, 2020)\n",
        "# period_gen_sales_plot(vgm_gen_total_unknown, 'Unknown')\n",
        "\n",
        "\n"
      ],
      "execution_count": null,
      "outputs": []
    },
    {
      "cell_type": "code",
      "metadata": {
        "id": "Z6JZMeuKQL_R"
      },
      "source": [
        "#Unknown 장르의 판매량\n",
        "vgm_unknown_sales = vgm[vgm['Genre'] == 'Unknown'].sort_values('Total_Sales', ascending=False)\n",
        "vgm_unknown_worth = vgm_unknown_sales[vgm_unknown_sales['Total_Sales'] > 0.99]\n",
        "\n",
        "vgm_unknown_worth.reset_index(drop=True, inplace=True)\n",
        "vgm_unknown = vgm[vgm['Genre'] == 'Unknown']\n",
        "vgm_unknown = vgm_unknown.groupby('Year').Total_Sales.sum()\n",
        "vgm_unknown"
      ],
      "execution_count": null,
      "outputs": []
    },
    {
      "cell_type": "code",
      "metadata": {
        "id": "hySUJn5IQ_kb"
      },
      "source": [
        ""
      ],
      "execution_count": null,
      "outputs": []
    },
    {
      "cell_type": "code",
      "metadata": {
        "id": "GRCIQPVKfHLY"
      },
      "source": [
        "vgm_total_per_gen1990 = vgm_gen_1990.copy()\n",
        "vgm_total_per_gen1990['Total_Sales'] = vgm_gen_total1990['Total_Sales']\n",
        "vgm_total_per_gen1990['Sales_per_Game'] = vgm_total_per_gen1990['Total_Sales'] / vgm_total_per_gen1990['numbers']\n",
        "vgm_total_per_gen1990\n",
        "\n",
        "vgm_total_per_gen2000 = vgm_gen_2000.copy()\n",
        "vgm_total_per_gen2000['Total_Sales'] = vgm_gen_total2000['Total_Sales']\n",
        "vgm_total_per_gen2000['Sales_per_Game'] = vgm_total_per_gen2000['Total_Sales'] / vgm_total_per_gen2000['numbers']\n",
        "vgm_total_per_gen2000\n",
        "\n",
        "vgm_total_per_gen2005 = vgm_gen_2005.copy()\n",
        "vgm_total_per_gen2005['Total_Sales'] = vgm_gen_total2005['Total_Sales']\n",
        "vgm_total_per_gen2005['Sales_per_Game'] = vgm_total_per_gen2005['Total_Sales'] / vgm_total_per_gen2005['numbers']\n",
        "vgm_total_per_gen2005\n",
        "\n",
        "vgm_total_per_gen2010 = vgm_gen_2010.copy()\n",
        "vgm_total_per_gen2010['Total_Sales'] = vgm_gen_total2010['Total_Sales']\n",
        "vgm_total_per_gen2010['Sales_per_Game'] = vgm_total_per_gen2010['Total_Sales'] / vgm_total_per_gen2010['numbers']\n",
        "vgm_total_per_gen2010\n",
        "\n",
        "vgm_total_per_gen2015 = vgm_gen_2015.copy()\n",
        "vgm_total_per_gen2015['Total_Sales'] = vgm_gen_total2015['Total_Sales']\n",
        "vgm_total_per_gen2015['Sales_per_Game'] = vgm_total_per_gen2015['Total_Sales'] / vgm_total_per_gen2015['numbers']\n",
        "vgm_total_per_gen2015\n",
        "\n",
        "vgm_total_per_gen2020 = vgm_gen_2020.copy()\n",
        "vgm_total_per_gen2020['Total_Sales'] = vgm_gen_total2020['Total_Sales']\n",
        "vgm_total_per_gen2020['Sales_per_Game'] = vgm_total_per_gen2020['Total_Sales'] / vgm_total_per_gen2020['numbers']\n",
        "vgm_total_per_gen2020\n",
        "\n",
        "vgm_total_per_gen_unknown = vgm_gen_unknown.copy()\n",
        "vgm_total_per_gen_unknown['Total_Sales'] = vgm_gen_total_unknown['Total_Sales']\n",
        "vgm_total_per_gen_unknown['Sales_per_Game'] = vgm_total_per_gen_unknown['Total_Sales'] / vgm_total_per_gen_unknown['numbers']\n",
        "vgm_total_per_gen_unknown\n",
        "\n",
        "vgm_total_per_gen2020 = vgm_gen_2020.copy()\n",
        "vgm_total_per_gen2020['Total_Sales'] = vgm_gen_total2020['Total_Sales']\n",
        "vgm_total_per_gen2020['Sales_per_Game'] = vgm_total_per_gen2020['Total_Sales'] / vgm_total_per_gen2020['numbers']\n",
        "vgm_total_per_gen2020['Sales_per_Game']"
      ],
      "execution_count": null,
      "outputs": []
    },
    {
      "cell_type": "code",
      "metadata": {
        "id": "Lg0Z1TyzixBH"
      },
      "source": [
        "def sales_per_gen_plot(df, year) :\n",
        "    # fig, axes = plt.subplots()\n",
        "    colors = ['red', 'orange', 'yellow','dimgray','dimgray','dimgrey','darkgray','silver','lightgrey','lightgrey','lightgrey','lightgrey','lightgrey']\n",
        "    plt.figure(figsize=(16,8), dpi=80)\n",
        "    # plt.ylim(0,15)\n",
        "    plt.bar(df['genre_name'], df['Sales_per_Game'])\n",
        "    plt.title('~' + str(year)+'\\'s Sale-per-Game in Genre', fontsize = 35)\n",
        "    plt.show()\n",
        "\n",
        "# sales_per_gen_plot(vgm_total_per_gen1990,1990)\n",
        "# sales_per_gen_plot(vgm_total_per_gen2000,2000)\n",
        "# sales_per_gen_plot(vgm_total_per_gen2005,2005)\n",
        "# sales_per_gen_plot(vgm_total_per_gen2010,2010)\n",
        "# sales_per_gen_plot(vgm_total_per_gen2015,2015)\n",
        "# sales_per_gen_plot(vgm_total_per_gen2020,2020)\n",
        "# sales_per_gen_plot(vgm_total_per_gen_unknown,'Unknown')"
      ],
      "execution_count": null,
      "outputs": []
    },
    {
      "cell_type": "code",
      "metadata": {
        "id": "r_Q5SLhp_w5e"
      },
      "source": [
        "\n",
        "trend_chi(vgm_total_per_gen2020['Sales_per_Game']*1000)"
      ],
      "execution_count": null,
      "outputs": []
    },
    {
      "cell_type": "code",
      "metadata": {
        "id": "LL0eORr0Mpa6"
      },
      "source": [
        "period_gen_plot(vgm_gen_1990,1990)\n",
        "period_gen_sales_plot(vgm_gen_total1990, 1990)\n",
        "sales_per_gen_plot(vgm_total_per_gen1990,1990)\n",
        "\n",
        "\n",
        "\n",
        "period_gen_plot(vgm_gen_2000,2000)\n",
        "period_gen_sales_plot(vgm_gen_total2000, 2000)\n",
        "sales_per_gen_plot(vgm_total_per_gen2000,2000)\n",
        "\n",
        "period_gen_plot(vgm_gen_2005,2005)\n",
        "period_gen_sales_plot(vgm_gen_total2005, 2005)\n",
        "sales_per_gen_plot(vgm_total_per_gen2005,2005)\n",
        "\n",
        "period_gen_plot(vgm_gen_2010,2010)\n",
        "period_gen_sales_plot(vgm_gen_total2010, 2010)\n",
        "sales_per_gen_plot(vgm_total_per_gen2010,2010)\n",
        "\n",
        "period_gen_plot(vgm_gen_2015,2015)\n",
        "period_gen_sales_plot(vgm_gen_total2015, 2015)\n",
        "sales_per_gen_plot(vgm_total_per_gen2015,2015)\n",
        "\n",
        "\n",
        "period_gen_plot(vgm_gen_2020,2020)\n",
        "period_gen_sales_plot(vgm_gen_total2020, 2020)\n",
        "sales_per_gen_plot(vgm_total_per_gen2020,2020)\n",
        "\n",
        "\n",
        "period_gen_plot(vgm_gen_unknown,'Unknown')\n",
        "period_gen_sales_plot(vgm_gen_total_unknown, 'Unknown')\n",
        "sales_per_gen_plot(vgm_total_per_gen_unknown,'Unknown')\n",
        "\n"
      ],
      "execution_count": null,
      "outputs": []
    },
    {
      "cell_type": "code",
      "metadata": {
        "id": "4oOIKWeSkDm4"
      },
      "source": [
        "vgm_total_per_gen2015"
      ],
      "execution_count": null,
      "outputs": []
    },
    {
      "cell_type": "code",
      "metadata": {
        "id": "f0VeGD6KkV6o"
      },
      "source": [
        "vgm_2015_total[vgm_2015_total['Genre']=='Unknown']"
      ],
      "execution_count": null,
      "outputs": []
    },
    {
      "cell_type": "code",
      "metadata": {
        "id": "oBWY62PnqmpN"
      },
      "source": [
        "#장르별 게임 하나당 이익률 == vgm_gen_count\n",
        "\n",
        "vgm_gen = pd.melt(vgm, id_vars = ['Period','Name'], \n",
        "              value_vars = ['Genre'], var_name='Genre', value_name='genre_name'\n",
        "               )\n",
        "vgm_gen1 = pd.DataFrame(vgm_gen.groupby('Period').genre_name.value_counts())\n",
        "# pd.set_option('display.max_rows', 100)\n",
        "\n",
        "vgm_gen1.rename(columns={'genre_name' : 'numbers' }, inplace=True)\n",
        "\n",
        "vgm_gen1.reset_index(inplace=True)\n",
        "vgm_gen_count = pd.DataFrame(vgm_gen1.groupby('genre_name').numbers.sum())\n",
        "vgm_gen_count\n",
        "\n",
        "vgm_total_per_gen = pd.DataFrame(vgm.groupby('Genre').sum()['Total_Sales'])\n",
        "\n",
        "vgm_gen_count['Total_Sales'] = vgm_total_per_gen['Total_Sales']\n",
        "vgm_gen_count['Sales_per_Game'] = vgm.groupby('Genre').Total_Sales.mean()\n",
        "\n",
        "\n",
        "vgm_gen_count"
      ],
      "execution_count": null,
      "outputs": []
    },
    {
      "cell_type": "code",
      "metadata": {
        "id": "j9p_72I7xb7H"
      },
      "source": [
        "vgm.groupby('Genre').Total_Sales.mean()"
      ],
      "execution_count": null,
      "outputs": []
    },
    {
      "cell_type": "code",
      "metadata": {
        "id": "PU4GhhW3rp02"
      },
      "source": [
        "vgm_gen_loc = vgm.groupby('Genre')[['NA_Sales','EU_Sales','JP_Sales','Other_Sales', 'Total_Sales']].mean()\n",
        "# stats.chisquare(vgm_gen_loc['Other_Sales'])\n",
        "\n",
        "def gen_loc_trend(x, header) :\n",
        "    y = stats.chisquare(x * 1000).pvalue\n",
        "    print(header)\n",
        "    if y < 0.05 :\n",
        "        print('There is something. P-value is : ', y)\n",
        "    else : \n",
        "        print('Nothing remarkable. P-value is : ', y)\n",
        "\n",
        "gen_loc_trend(vgm_gen_loc[\"NA_Sales\"], \"NA_Sales\")\n",
        "gen_loc_trend(vgm_gen_loc[\"EU_Sales\"], \"EU_Sales\")\n",
        "gen_loc_trend(vgm_gen_loc[\"JP_Sales\"], \"JP_Sales\")\n",
        "gen_loc_trend(vgm_gen_loc[\"Other_Sales\"], \"Other_Sales\")\n",
        "vgm_gen_loc[\"NA_Sales\"].sort_values(ascending=False)"
      ],
      "execution_count": null,
      "outputs": []
    },
    {
      "cell_type": "code",
      "metadata": {
        "id": "31LdG12yLSse"
      },
      "source": [
        "vgm_gen_num = pd.DataFrame(vgm.groupby(['Period']).Genre.value_counts())\n",
        "vgm_gen_num_total = pd.DataFrame(vgm.groupby(['Period','Genre']).Total_Sales.sum())\n",
        "# newcol = vgm_gen_num_total['Total_Sales']\n",
        "# # vgm_gen_num['Total_Sales'] = newcol\n",
        "vgm_gen_num.rename(columns = {'Genre' : 'Numbers'}, inplace=True)\n",
        "\n",
        "# vgm_gen_num.reset_index(inplace=True)\n",
        "\n"
      ],
      "execution_count": null,
      "outputs": []
    },
    {
      "cell_type": "code",
      "metadata": {
        "id": "8npTGvNoORjm"
      },
      "source": [
        "vgm_gen_num\n",
        "vgm_gen_num_total\n",
        "vgm_gen_num1 = vgm_gen_num.merge(vgm_gen_num_total,right_index=True,left_index=True)\n",
        "# vgm_gen_num_total\n",
        "\n",
        "# vgm_gen_numUN = vgm_gen_num[vgm_gen_num['Period']=='Unknown'].sort_values('Genre')\n",
        "# vgm_gen_num1990 = vgm_gen_num[vgm_gen_num['Period']=='~1990'].sort_values('Genre')\n",
        "# vgm_gen_num2000 = vgm_gen_num[vgm_gen_num['Period']=='~2000'].sort_values('Genre')\n",
        "# vgm_gen_num2005 = vgm_gen_num[vgm_gen_num['Period']=='~2005'].sort_values('Genre')\n",
        "# vgm_gen_num2010 = vgm_gen_num[vgm_gen_num['Period']=='~2010'].sort_values('Genre')\n",
        "# vgm_gen_num2015 = vgm_gen_num[vgm_gen_num['Period']=='~2015'].sort_values('Genre')\n",
        "# vgm_gen_num2020 = vgm_gen_num[vgm_gen_num['Period']=='~2020'].sort_values('Genre')\n",
        "vgm_gen_num1.reset_index(inplace=True)"
      ],
      "execution_count": null,
      "outputs": []
    },
    {
      "cell_type": "code",
      "metadata": {
        "id": "rxBGVOXBvSqU"
      },
      "source": [
        ""
      ],
      "execution_count": null,
      "outputs": []
    },
    {
      "cell_type": "code",
      "metadata": {
        "id": "uzso_E5etk2x"
      },
      "source": [
        "vgm_action = vgm_gen_num1[vgm_gen_num1['Genre']=='Action'].reset_index(drop=True)\n",
        "vgm_sports = vgm_gen_num1[vgm_gen_num1['Genre']=='Sports'].reset_index(drop=True)\n",
        "vgm_misc = vgm_gen_num1[vgm_gen_num1['Genre']=='Misc'].reset_index(drop=True)\n",
        "vgm_racing = vgm_gen_num1[vgm_gen_num1['Genre']=='Racing'].reset_index(drop=True)\n",
        "vgm_shooter = vgm_gen_num1[vgm_gen_num1['Genre']=='Shooter'].reset_index(drop=True)\n",
        "vgm_role = vgm_gen_num1[vgm_gen_num1['Genre']=='Role-Playing'].reset_index(drop=True)\n",
        "vgm_simulation = vgm_gen_num1[vgm_gen_num1['Genre']=='Simulation'].reset_index(drop=True)\n",
        "vgm_platform = vgm_gen_num1[vgm_gen_num1['Genre']=='Platform'].reset_index(drop=True)\n",
        "vgm_puzzle = vgm_gen_num1[vgm_gen_num1['Genre']=='Puzzle'].reset_index(drop=True)\n",
        "vgm_adventure = vgm_gen_num1[vgm_gen_num1['Genre']=='Adventure'].reset_index(drop=True)\n",
        "vgm_fighting = vgm_gen_num1[vgm_gen_num1['Genre']=='Fighting'].reset_index(drop=True)\n",
        "vgm_strategy = vgm_gen_num1[vgm_gen_num1['Genre']=='Strategy'].reset_index(drop=True)\n",
        "vgm_gen_unknown = vgm_gen_num1[vgm_gen_num1['Genre']=='Unknown'].reset_index(drop=True)"
      ],
      "execution_count": null,
      "outputs": []
    },
    {
      "cell_type": "code",
      "metadata": {
        "id": "zTSBajQQvBrR"
      },
      "source": [
        "vgm_action['Sales_per_Game'] = vgm_action['Total_Sales']/ vgm_action['Numbers']\n",
        "vgm_misc['Sales_per_Game']= vgm_misc['Total_Sales'] / vgm_misc['Numbers']\n",
        "vgm_sports['Sales_per_Game']= vgm_sports['Total_Sales'] / vgm_sports['Numbers']\n",
        "vgm_racing['Sales_per_Game']= vgm_racing['Total_Sales'] / vgm_racing['Numbers']\n",
        "vgm_shooter['Sales_per_Game']= vgm_shooter['Total_Sales'] / vgm_shooter['Numbers']\n",
        "vgm_role['Sales_per_Game']= vgm_role['Total_Sales'] / vgm_role['Numbers']\n",
        "vgm_simulation['Sales_per_Game']= vgm_simulation['Total_Sales'] / vgm_simulation['Numbers']\n",
        "vgm_platform['Sales_per_Game']= vgm_platform['Total_Sales'] / vgm_platform['Numbers']\n",
        "vgm_puzzle['Sales_per_Game']= vgm_puzzle['Total_Sales'] / vgm_puzzle['Numbers']\n",
        "vgm_adventure['Sales_per_Game']= vgm_adventure['Total_Sales'] / vgm_adventure['Numbers']\n",
        "vgm_fighting['Sales_per_Game']= vgm_fighting['Total_Sales'] / vgm_fighting['Numbers']\n",
        "vgm_strategy['Sales_per_Game']= vgm_strategy['Total_Sales'] / vgm_strategy['Numbers']\n",
        "vgm_gen_unknown['Sales_per_Game']= vgm_gen_unknown['Total_Sales'] / vgm_gen_unknown['Numbers']\n"
      ],
      "execution_count": null,
      "outputs": []
    },
    {
      "cell_type": "code",
      "metadata": {
        "id": "ayaMIFvKiLOB"
      },
      "source": [
        "vgm_action"
      ],
      "execution_count": null,
      "outputs": []
    },
    {
      "cell_type": "code",
      "metadata": {
        "id": "CdRiq0HBqxYp"
      },
      "source": [
        "vgm_gen_mean = pd.DataFrame(\n",
        "                            [vgm_action.mean(),\n",
        "                             vgm_misc.mean(),\n",
        "                             vgm_sports.mean(),\n",
        "                             vgm_racing.mean(),\n",
        "                             vgm_shooter.mean(),\n",
        "                             vgm_role.mean(),\n",
        "                             vgm_simulation.mean(),\n",
        "                             vgm_platform.mean(),\n",
        "                             vgm_puzzle.mean(),\n",
        "                             vgm_fighting.mean(),\n",
        "                             vgm_strategy.mean(),\n",
        "                             vgm_gen_unknown.mean(),\n",
        "                             ], \n",
        "                            index = ['Action', 'Misc', 'Sports', 'Racing', 'Shooter', \n",
        "                                     'Role-Playing', 'Simulation', 'Platform', 'Puzzle',\n",
        "                                     'Figting', 'Strategy', 'Unknown'],\n",
        "                        \n",
        ")"
      ],
      "execution_count": null,
      "outputs": []
    },
    {
      "cell_type": "code",
      "metadata": {
        "id": "9oqMTEZQOYey"
      },
      "source": [
        "# vgm_gen_num2005\n",
        "vgm_gen_mean"
      ],
      "execution_count": null,
      "outputs": []
    },
    {
      "cell_type": "code",
      "metadata": {
        "id": "wciMKQOKBDpB"
      },
      "source": [
        "vgm_top_individual.head(10)"
      ],
      "execution_count": null,
      "outputs": []
    },
    {
      "cell_type": "code",
      "metadata": {
        "id": "Etpm97BvBJia"
      },
      "source": [
        "vgm_name_total.head(10)\n",
        "vgm_name_total[vgm_name_total['Publisher'] == 'Nintendo'].value_counts().sum()"
      ],
      "execution_count": null,
      "outputs": []
    },
    {
      "cell_type": "code",
      "metadata": {
        "id": "qdxlSWXcB9Il"
      },
      "source": [
        "#2010년부터 출시된 게임은 JP_Sales가 의미있진 않음. \n",
        "\n",
        "vgm_later_2009 = vgm[vgm['Year'] > 2009].sort_values('Total_Sales', ascending=False)\n",
        "vgm_from_2010 = vgm_later_2009.groupby(['Name','Genre','Publisher'])[['NA_Sales', 'EU_Sales', 'JP_Sales', 'Other_Sales', 'Total_Sales']].sum().sort_values('Total_Sales', ascending=False)\n",
        "vgm_from_2010[vgm_from_2010['Total_Sales'] > 1.0]"
      ],
      "execution_count": null,
      "outputs": []
    },
    {
      "cell_type": "code",
      "metadata": {
        "id": "YVrQMUyDI-3z"
      },
      "source": [
        "vgm_from_2010top = vgm_from_2010[vgm_from_2010['Total_Sales'] > 1.0]\n",
        "vgm_from_2010top.reset_index(inplace=True)\n",
        "vgm_from_2010top"
      ],
      "execution_count": null,
      "outputs": []
    },
    {
      "cell_type": "code",
      "metadata": {
        "id": "rHGVylddLF6E"
      },
      "source": [
        "# 2010년 이후 게임 중 판매량 1M 이상, 장르 개수\n",
        "vgm_from_2010top['Genre'].value_counts()"
      ],
      "execution_count": null,
      "outputs": []
    },
    {
      "cell_type": "code",
      "metadata": {
        "id": "ettuWiKeLaCS"
      },
      "source": [
        "#Unknown == 포켓몬이랑 Wii party\n",
        "vgm_from_2010top.groupby('Genre').Total_Sales.mean()\n"
      ],
      "execution_count": null,
      "outputs": []
    },
    {
      "cell_type": "code",
      "metadata": {
        "id": "ZYSqdfh8GDH_"
      },
      "source": [
        "#2010년부터 출시된 게임 중 일본 판매량이 전체 판매량의 5%를 넘는 게임 == 1675개 \n",
        "vgm_JP = vgm_from_2010[(vgm_from_2010['JP_Sales'] / vgm_from_2010['Total_Sales']) > 0.05]\n",
        "#vgm_JP 중에서 NA, EU, Other 판매량이 전체 판매량의 5%를 넘는 게임은 517개 뿐\n",
        "vgm_JP[(vgm_JP['NA_Sales'] +vgm_JP['EU_Sales'] + vgm_JP['Other_Sales'])/ vgm_JP['Total_Sales'] > 0.05 ]"
      ],
      "execution_count": null,
      "outputs": []
    },
    {
      "cell_type": "code",
      "metadata": {
        "id": "T-et9BQoBzhF"
      },
      "source": [
        "vgm_tmp = vgm[vgm['Total_Sales'] > 1.0]\n",
        "vgm_tmp\n",
        "# vgm_tmp[(vgm_tmp['JP_Sales'] / vgm_tmp['Total_Sales']) > 0.05]"
      ],
      "execution_count": null,
      "outputs": []
    },
    {
      "cell_type": "code",
      "metadata": {
        "id": "1w08quuWJQwQ"
      },
      "source": [
        "#특히, 전체 판매량이 1M을 넘는 게임 중 일본 판매량이 5%이상인 경우는 158개 뿐임.\n",
        "vgm_JPtop = vgm_from_2010top[(vgm_from_2010top['JP_Sales'] / vgm_from_2010top['Total_Sales']) > 0.05]\n",
        "vgm_JPtop"
      ],
      "execution_count": null,
      "outputs": []
    },
    {
      "cell_type": "code",
      "metadata": {
        "id": "Jcwu_UEEG5CW"
      },
      "source": [
        "#이름으로 묶은 데이터프레임을 갖다대면 일본 판매량의 비율을 보여준다\n",
        "def percent_JP(df,index_num):\n",
        "    fig = plt.figure(figsize=(9,9))\n",
        "    fig.set_facecolor('white')\n",
        "\n",
        "    ax = fig.add_subplot()\n",
        "    ax.pie(x=df.iloc[index_num][['NA_Sales','EU_Sales','JP_Sales','Other_Sales']], \n",
        "       labels= ['NA_Sales','EU_Sales','JP_Sales','Other_Sales'],\n",
        "       autopct=lambda p : '{:.2f}%'.format(p))\n",
        "    plt.title(df.index[index_num][0])\n",
        "    plt.show()\n",
        "percent_JP(vgm_from_2010,0)"
      ],
      "execution_count": null,
      "outputs": []
    },
    {
      "cell_type": "code",
      "metadata": {
        "id": "f8FL1n_eIOXW"
      },
      "source": [
        "#그러나, 판매량이 1M을 넘는 게임들 중 Other_Sales의 비중이 5%가 넘는 게임은 502개.\n",
        "vgm_others = vgm_from_2010top[(vgm_from_2010top['Other_Sales'] / vgm_from_2010top['Total_Sales']) > 0.05]\n",
        "vgm_others"
      ],
      "execution_count": null,
      "outputs": []
    },
    {
      "cell_type": "code",
      "metadata": {
        "id": "SiZG0z45Gg-F"
      },
      "source": [
        "vgm_noJP = vgm[(vgm['Publisher'] != 'Nintendo') & (vgm['Year'] > 2009)]\n",
        "vgm_noJP\n",
        "\n",
        "vgm_noJP_gen_loc = vgm_noJP.groupby('Genre').mean()\n",
        "vgm_noJP_gen_loc = vgm_noJP_gen_loc.drop('Year', axis = 1)\n",
        "# vgm_gen_loc = vgm_gen_loc.drop('Unknown', axis = 0)\n",
        "vgm_noJP_gen_loc = vgm_noJP_gen_loc.drop('Total_Sales', axis = 1)\n",
        "# vgm_gen_loc =  vgm_gen_loc.T\n",
        "vgm_noJP_gen_loc1 = vgm_noJP_gen_loc.drop('Unknown', axis=0) \n",
        "\n",
        "gen_variance_loc(vgm_noJP_gen_loc1, 'NA_Sales')\n",
        "gen_variance_loc(vgm_noJP_gen_loc1, 'EU_Sales')\n",
        "gen_variance_loc(vgm_noJP_gen_loc1, 'JP_Sales')\n",
        "gen_variance_loc(vgm_noJP_gen_loc1, 'Other_Sales')"
      ],
      "execution_count": null,
      "outputs": []
    },
    {
      "cell_type": "code",
      "metadata": {
        "id": "kznvfub7JOiq"
      },
      "source": [
        "vgm_noJP[vgm_noJP['Genre'] == 'Simulation'].sort_values('Total_Sales', ascending=False)\n",
        "\n",
        "vgm[vgm['Genre'] == 'Simulation'].sort_values('Total_Sales', ascending=False).head(50)\n"
      ],
      "execution_count": null,
      "outputs": []
    },
    {
      "cell_type": "code",
      "metadata": {
        "id": "oB6rfXBiNRpu"
      },
      "source": [
        "vgm_noJP_shooter = vgm_noJP[vgm_noJP['Genre'] == 'Shooter'].sort_values('Total_Sales', ascending=False)\n",
        "vgm_noJP_shooter.describe() # 중간 값 0.40\n",
        "\n",
        "vgm_noJP_Action = vgm_noJP[vgm_noJP['Genre'] == 'Action'].sort_values('Total_Sales', ascending=False)\n",
        "vgm_noJP_Action.describe()\n",
        "\n",
        "# vgm_noJP_Platform = vgm_noJP[vgm_noJP['Genre'] == 'Platform'].sort_values('Total_Sales', ascending=False)\n",
        "# vgm_noJP_Platform.describe()\n",
        "\n",
        "\n",
        "# vgm_noJP_Simulation = vgm_noJP[vgm_noJP['Genre'] == 'Simulation'].sort_values('Total_Sales', ascending=False)\n",
        "# vgm_noJP_Simulation.describe()\n",
        "\n",
        "\n",
        "# vgm_noJP_Strategy = vgm_noJP[vgm_noJP['Genre'] == 'Strategy'].sort_values('Total_Sales', ascending=False)\n",
        "# vgm_noJP_Strategy.describe()\n",
        "\n",
        "\n",
        "vgm_noJP_Fighting = vgm_noJP[vgm_noJP['Genre'] == 'Fighting'].sort_values('Total_Sales', ascending=False)\n",
        "vgm_noJP_Fighting.describe()\n",
        "\n",
        "# vgm_noJP_Adventure = vgm_noJP[vgm_noJP['Genre'] == 'Adventure'].sort_values('Total_Sales', ascending=False)\n",
        "# vgm_noJP_Adventure.describe()\n",
        "\n",
        "# vgm_noJP_Role_Playing = vgm_noJP[vgm_noJP['Genre'] == 'Role-Playing'].sort_values('Total_Sales', ascending=False)\n",
        "# vgm_noJP_Role_Playing.describe()\n",
        "\n",
        "# vgm_noJP_Puzzle = vgm_noJP[vgm_noJP['Genre'] == 'Puzzle'].sort_values('Total_Sales', ascending=False)\n",
        "# vgm_noJP_Puzzle.describe()\n",
        "\n",
        "# vgm_noJP_Racing = vgm_noJP[vgm_noJP['Genre'] == 'Racing'].sort_values('Total_Sales', ascending=False)\n",
        "# vgm_noJP_Racing.describe()\n",
        "\n",
        "# vgm_noJP_Sports = vgm_noJP[vgm_noJP['Genre'] == 'Sports'].sort_values('Total_Sales', ascending=False)\n",
        "# vgm_noJP_Sports.describe()\n",
        "\n",
        "# vgm_noJP_Misc = vgm_noJP[vgm_noJP['Genre'] == 'Misc'].sort_values('Total_Sales', ascending=False)\n",
        "# vgm_noJP_Misc.describe()\n",
        "\n"
      ],
      "execution_count": null,
      "outputs": []
    }
  ]
}