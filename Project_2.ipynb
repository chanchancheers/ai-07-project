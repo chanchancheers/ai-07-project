{
  "nbformat": 4,
  "nbformat_minor": 0,
  "metadata": {
    "colab": {
      "name": "Project_2",
      "private_outputs": true,
      "provenance": [],
      "collapsed_sections": [
        "jBXCmkG4jMzV",
        "iQRrFgiXbhq4",
        "crcbJrGZdFI-"
      ]
    },
    "kernelspec": {
      "name": "python3",
      "display_name": "Python 3"
    },
    "language_info": {
      "name": "python"
    }
  },
  "cells": [
    {
      "cell_type": "markdown",
      "metadata": {
        "id": "GxavbZWo3hnc"
      },
      "source": [
        "#Bike Rental Prediction\n",
        "\n",
        "\n",
        "###1. 시간별 바이크 대여 횟수를 통해 해당 날짜에 바이크 대여가 N대 이하일 경우를 예측하여,\n",
        "* 계절에 따른 날씨 데이터를 기반하여 예측한다.\n",
        "* 사람들의 활동시간에 따라 예측한다.\n",
        "* 휴일이냐 아니냐에 따라 예측한다.\n",
        "\n",
        "###2. 대여 업체가 미리 서비스 제공에 대비할 날짜에 관해 사전 정보를 준다.\n",
        "*   목적: 사전에 {연료 충당 & 바이크 정비 & 대체품 수급 & 기타 서비스 준비} 하도록 돕는다.\n",
        "* 바이크 수요가 증가하는 특정 시간대 or 특정 날씨조건에 대한 정보 제공\n"
      ]
    },
    {
      "cell_type": "markdown",
      "metadata": {
        "id": "APWiatZM5cgS"
      },
      "source": [
        "#### * 주의사항\n",
        "1. 모든 날짜가 ***24시간의 데이터를 가지고 있지는 않다.***\n",
        "2. 데이터의 양이 부족하여 과적합이 일어나기 쉽다.\n",
        "3. 날씨에 관한 데이터는 시계열성이 존재하므로 train-dataset과 test-dataset을 나눌 때 이를 고려해야 한다.\n",
        "#### * 해결방법\n",
        "* Nested Cross-Validation을 이용해본다(Regular Day-Forward Chaining [link text](https://towardsdatascience.com/time-series-nested-cross-validation-76adba623eb9))"
      ]
    },
    {
      "cell_type": "code",
      "metadata": {
        "id": "fm1rxJ-M7sp9"
      },
      "source": [
        "from google.colab import drive\n",
        "drive.mount('/gdrive') \n",
        "file = '/gdrive/My Drive/CodeStates/Section_2/Sprint3/Project/Bike_rental/hour.csv'\n",
        "# url='https://www.kaggle.com/swatikhedekar/rental-bike-share/download'"
      ],
      "execution_count": null,
      "outputs": []
    },
    {
      "cell_type": "code",
      "metadata": {
        "id": "flQvhI5q8Fx0"
      },
      "source": [
        "import pandas as pd\n",
        "df1 = pd.read_csv(file)\n",
        "df = df1.copy()\n",
        "df.head()"
      ],
      "execution_count": null,
      "outputs": []
    },
    {
      "cell_type": "code",
      "metadata": {
        "id": "bOGhmUHrUF1U"
      },
      "source": [
        "# df['dteday'].value_counts()"
      ],
      "execution_count": null,
      "outputs": []
    },
    {
      "cell_type": "code",
      "metadata": {
        "id": "GDqTAzZnZi3p"
      },
      "source": [
        "%%capture\n",
        "# !pip install pandas_profiling -U"
      ],
      "execution_count": null,
      "outputs": []
    },
    {
      "cell_type": "code",
      "metadata": {
        "id": "yMOXMDJgZjVA"
      },
      "source": [
        "# from pandas_profiling import ProfileReport\n",
        "# profile = ProfileReport(df)\n",
        "# # profile\n"
      ],
      "execution_count": null,
      "outputs": []
    },
    {
      "cell_type": "code",
      "metadata": {
        "id": "jh5iscw5xw_E"
      },
      "source": [
        "from datetime import date\n",
        "# df['dteday'] = pd.to_datetime(df['dteday'])"
      ],
      "execution_count": null,
      "outputs": []
    },
    {
      "cell_type": "code",
      "metadata": {
        "id": "WkQhXEn_VeyK"
      },
      "source": [
        "df.groupby('dteday').hr.count().value_counts()"
      ],
      "execution_count": null,
      "outputs": []
    },
    {
      "cell_type": "code",
      "metadata": {
        "id": "UHKk-tFhZEte"
      },
      "source": [
        "df.isnull().sum()"
      ],
      "execution_count": null,
      "outputs": []
    },
    {
      "cell_type": "code",
      "metadata": {
        "id": "1Q5Xk5p2ZLME"
      },
      "source": [
        "#타겟 임의 설정시 비율 확인\n",
        "proportion = df['cnt'] < 100\n",
        "base = proportion.value_counts(normalize=True)[1]\n"
      ],
      "execution_count": null,
      "outputs": []
    },
    {
      "cell_type": "code",
      "metadata": {
        "id": "a-PK7mKQGI2K"
      },
      "source": [
        "import matplotlib.pyplot as plt\n",
        " \n",
        "\n",
        "fig = plt.figure(figsize=(8,8)) \n",
        "fig.set_facecolor('white') \n",
        " \n",
        "ax = fig.add_subplot()\n",
        "ax.pie(x=[proportion.value_counts(normalize=True)[1],proportion.value_counts(normalize=True)[0]],\n",
        "       labels=['Dayoff', 'Open'],\n",
        "       colors = ['lightgray', 'black'],\n",
        "       autopct='%.2f%%');\n",
        "plt.rcParams.update({'font.size': 35,})"
      ],
      "execution_count": null,
      "outputs": []
    },
    {
      "cell_type": "markdown",
      "metadata": {
        "id": "JBURVb0aMbrk"
      },
      "source": [
        "# Target Feature 생성 (대여 횟수가 100 미만일 가능성)"
      ]
    },
    {
      "cell_type": "code",
      "metadata": {
        "id": "8m9hOICWHGh2"
      },
      "source": [
        "df['dayoff'] = proportion.astype(float)"
      ],
      "execution_count": null,
      "outputs": []
    },
    {
      "cell_type": "code",
      "metadata": {
        "id": "7mKNPfSHM7Ux"
      },
      "source": [
        "df.head()\n",
        "df_nocnt = df.drop('cnt', axis=1)"
      ],
      "execution_count": null,
      "outputs": []
    },
    {
      "cell_type": "code",
      "metadata": {
        "id": "frhat0ypND7W"
      },
      "source": [
        "df_nocnt"
      ],
      "execution_count": null,
      "outputs": []
    },
    {
      "cell_type": "markdown",
      "metadata": {
        "id": "TfaFuxY5FcZ8"
      },
      "source": [
        "## 데이터의 시계열성을 유지하는 train / test dataset 분리\n",
        "* 전체 데이터 중 후반 20%를 test dataset으로 구분\n",
        "* Validation set은 train dataset중 마지막 20%로 구분\n",
        "* **일단 'cnt' 특성이 없는 데이터셋으로 먼저 한다.**"
      ]
    },
    {
      "cell_type": "code",
      "metadata": {
        "id": "i2_QdBrORZdr"
      },
      "source": [
        "import numpy as np\n",
        "split_point = int(len(df_nocnt)* 4/ 5)\n",
        "df_train1 = df_nocnt.loc[:split_point-1,:]\n",
        "df_test = df_nocnt.loc[split_point :,:]\n",
        "\n",
        "split_val = int(len(df)* 3/5)\n",
        "df_train = df_train1.loc[:split_val-1,:]\n",
        "df_val = df_train1.loc[split_val:, :]\n",
        "df_train"
      ],
      "execution_count": null,
      "outputs": []
    },
    {
      "cell_type": "code",
      "metadata": {
        "id": "2Oma61CVg28Y"
      },
      "source": [
        "len(df_train) + len(df_val) + len(df_test) == len(df_nocnt)"
      ],
      "execution_count": null,
      "outputs": []
    },
    {
      "cell_type": "code",
      "metadata": {
        "id": "uECInmExhDMx"
      },
      "source": [
        "target = 'dayoff'\n",
        "feature = df_nocnt.drop(target, axis=1).columns"
      ],
      "execution_count": null,
      "outputs": []
    },
    {
      "cell_type": "code",
      "metadata": {
        "id": "ZchQyrAOhVEt"
      },
      "source": [
        "X_train = df_train[feature]\n",
        "y_train = df_train[target]\n",
        "X_val = df_val[feature]\n",
        "y_val = df_val[target]\n",
        "X_test = df_test[feature]\n",
        "y_test = df_test[target]"
      ],
      "execution_count": null,
      "outputs": []
    },
    {
      "cell_type": "markdown",
      "metadata": {
        "id": "XkulYDhBMUbI"
      },
      "source": [
        "#특성공학 진행 (특성 추가 및 삭제)"
      ]
    },
    {
      "cell_type": "code",
      "metadata": {
        "id": "GTs0PFPxv7ab"
      },
      "source": [
        "\n",
        "def engineer(df):\n",
        "    #1. weekday, holiday, workingday 처리\n",
        "    weekday = (df['weekday'] >= 1) & (df['weekday'] <= 4)\n",
        "    Friday = df['weekday'] == 5\n",
        "    Saturday = df['weekday'] == 6\n",
        "    Sunday = df['weekday'] == 0\n",
        "    holiday = (weekday) & (df['holiday']==1)\n",
        "\n",
        "    Friday = Friday.astype(int)\n",
        "    Saturday = Saturday.astype(int)*2\n",
        "    Sunday = Sunday.astype(int)*3\n",
        "    holiday = holiday.astype(int)*4\n",
        "    Sunday.astype(int).value_counts()\n",
        "\n",
        "    df['Weekday'] = Friday + Saturday + Sunday + holiday # 'Weekday' = 0:평일, 1:금요일, 2:토요일, 3:일요일, 4:평일 공휴일\n",
        "\n",
        "    #2. 처리 후 중복적 특성들 제거\n",
        "    dels = ['instant','weekday','workingday', 'holiday','dteday', 'atemp', 'registered', 'casual'] ##weekday, temp를 지울까 말까?\n",
        "    df.drop(dels, axis=1, inplace=True)\n",
        "\n",
        "    return df\n",
        "\n",
        "engineer(X_train)\n",
        "engineer(X_val)\n",
        "engineer(X_test)"
      ],
      "execution_count": null,
      "outputs": []
    },
    {
      "cell_type": "code",
      "metadata": {
        "id": "pskIG978M-ny"
      },
      "source": [
        ""
      ],
      "execution_count": null,
      "outputs": []
    },
    {
      "cell_type": "code",
      "metadata": {
        "id": "tMxLisyYlqgh"
      },
      "source": [
        "%%capture\n",
        "!pip install pdpbox -U\n",
        "!pip install eli5 -U\n",
        "!pip install category_encoders\n",
        "!pip install xgboost -U"
      ],
      "execution_count": null,
      "outputs": []
    },
    {
      "cell_type": "code",
      "metadata": {
        "id": "RuJs59SSgPU2"
      },
      "source": [
        "from pdpbox.pdp import pdp_isolate, pdp_plot\n",
        "import eli5\n",
        "from eli5.sklearn import PermutationImportance\n",
        "from sklearn.pipeline import make_pipeline\n",
        "from category_encoders import OrdinalEncoder\n",
        "from sklearn.ensemble import RandomForestRegressor\n",
        "from sklearn.metrics import classification_report \n",
        "from xgboost import XGBClassifier\n",
        "import warnings\n",
        "warnings.filterwarnings(\"ignore\")\n",
        "from sklearn.metrics import accuracy_score\n"
      ],
      "execution_count": null,
      "outputs": []
    },
    {
      "cell_type": "markdown",
      "metadata": {
        "id": "qLJJdiBk_a-t"
      },
      "source": [
        "## Baseline model\n",
        "* 'Original dataset에서 target이 나타나는 확률'로 1을 출력하는 Series"
      ]
    },
    {
      "cell_type": "code",
      "metadata": {
        "id": "zjvP7yCb_duK"
      },
      "source": [
        "# 각 데이터마다 base의 확률로 1을 나타내는 X와 같은 데이터 크기의 pd.Series를 내뱉는  함수\n",
        "def baseline(X,y):\n",
        "    np.random.seed(77)\n",
        "    y_pred = np.random.binomial(n=1, p = base, size = len(X))\n",
        "\n",
        "    print('Baseline model 검증 정확도: ', accuracy_score(y, y_pred))\n",
        "\n",
        "    print(classification_report(y_pred, y))\n",
        "\n"
      ],
      "execution_count": null,
      "outputs": []
    },
    {
      "cell_type": "code",
      "metadata": {
        "id": "JMKpt25CDF34"
      },
      "source": [
        "baseline(X_val,y_val)"
      ],
      "execution_count": null,
      "outputs": []
    },
    {
      "cell_type": "markdown",
      "metadata": {
        "id": "yuLg6IN8DTV3"
      },
      "source": [
        "#Model 1"
      ]
    },
    {
      "cell_type": "code",
      "metadata": {
        "id": "4wZHVpe0OBfq"
      },
      "source": [
        "# 임의 모델\n",
        "pipe1 = make_pipeline(\n",
        "        # OrdinalEncoder(),\n",
        "        XGBClassifier(n_estimators = 100, \n",
        "                      max_depth = 7, \n",
        "                      n_jobs=-1,\n",
        "                      random_state=77,\n",
        "                      learning_rate= 0.2, )\n",
        ")\n",
        "pipe1.fit(X_train, y_train);"
      ],
      "execution_count": null,
      "outputs": []
    },
    {
      "cell_type": "code",
      "metadata": {
        "id": "79RhpaWISVpA"
      },
      "source": [
        "y_pred = pipe1.predict(X_val)\n",
        "print('검증 정확도: ', accuracy_score(y_val, y_pred))\n",
        "\n",
        "print(classification_report(y_pred, y_val))"
      ],
      "execution_count": null,
      "outputs": []
    },
    {
      "cell_type": "code",
      "metadata": {
        "id": "60YnryicDbIf"
      },
      "source": [
        "y_pred = pipe1.predict(X_test)\n",
        "print('테스트 정확도: ', accuracy_score(y_test, y_pred))\n",
        "\n",
        "print(classification_report(y_pred, y_test))"
      ],
      "execution_count": null,
      "outputs": []
    },
    {
      "cell_type": "markdown",
      "metadata": {
        "id": "hc72q2DGGcuQ"
      },
      "source": [
        "## RandomizedSearchCV로 최적화된 Hyper-parameter 찾기"
      ]
    },
    {
      "cell_type": "code",
      "metadata": {
        "id": "CoZf1_qLGb5L"
      },
      "source": [
        "from sklearn.model_selection import RandomizedSearchCV\n",
        "\n",
        "dists = {\n",
        "    'xgbclassifier__n_estimators' : range(100, 201, 10),\n",
        "    'xgbclassifier__max_depth' : range(1,5, 1),\n",
        "}\n",
        "\n",
        "clf1 = RandomizedSearchCV(\n",
        "                        pipe1,\n",
        "                        param_distributions = dists,\n",
        "                        n_iter=50,\n",
        "                        cv=3,\n",
        ")\n",
        "\n",
        "clf1.fit(X_train, y_train)"
      ],
      "execution_count": null,
      "outputs": []
    },
    {
      "cell_type": "code",
      "metadata": {
        "id": "qA8RYzycJsmN"
      },
      "source": [
        "print('최적 하이퍼파라미터: ', clf1.best_params_)\n",
        "print(clf1.best_score_)"
      ],
      "execution_count": null,
      "outputs": []
    },
    {
      "cell_type": "code",
      "metadata": {
        "id": "cL0uAG6VJ4Ld"
      },
      "source": [
        "pipe_renew = clf1.best_estimator_\n",
        "# pipe_renew.fit(X_train, y_train)"
      ],
      "execution_count": null,
      "outputs": []
    },
    {
      "cell_type": "code",
      "metadata": {
        "id": "MqeRWboGKBlf"
      },
      "source": [
        "y_pred = pipe_renew.predict(X_val)\n",
        "\n",
        "print('검증 정확도: ', accuracy_score(y_val, y_pred))\n",
        "\n",
        "print(classification_report(y_pred, y_val))"
      ],
      "execution_count": null,
      "outputs": []
    },
    {
      "cell_type": "code",
      "metadata": {
        "id": "QsfKoCucMVzT"
      },
      "source": [
        "y_pred_test = pipe_renew.predict(X_test)\n",
        "\n",
        "print('테스트 정확도: ', accuracy_score(y_test, y_pred_test))\n",
        "\n",
        "print(classification_report(y_pred_test, y_test))"
      ],
      "execution_count": null,
      "outputs": []
    },
    {
      "cell_type": "code",
      "metadata": {
        "id": "-DDe0YYQ2hP_"
      },
      "source": [
        "from sklearn.metrics import roc_curve\n",
        "y_pred_proba = pipe_renew.predict_proba(X_test)[:, 1]\n",
        "fpr, tpr, threshold = roc_curve(y_test, y_pred_proba) #y_pred_proba = pipe.predict_proba(X_val)[:, 1]\n",
        "\n",
        "roc = pd.DataFrame({\n",
        "    'FPR(Fall-out)': fpr, \n",
        "    'TPRate(Recall)': tpr, \n",
        "    'Threshold': threshold\n",
        "})\n",
        "roc #Threshold값 변화에 따라 값들을 보여줌\n",
        "\n",
        "plt.scatter(fpr, tpr)\n",
        "plt.title('ROC curve')\n",
        "plt.xlabel('FPR(Fall-out)')\n",
        "plt.ylabel('TPR(Recall)');\n",
        "\n"
      ],
      "execution_count": null,
      "outputs": []
    },
    {
      "cell_type": "code",
      "metadata": {
        "id": "jIB_IYv92sBq"
      },
      "source": [
        "optimal_idx = np.argmax(tpr - fpr)\n",
        "optimal_threshold = threshold[optimal_idx]\n",
        "\n",
        "print('idx:', optimal_idx, ', threshold:', optimal_threshold)\n",
        "\n",
        "y_pred_optimal = y_pred_proba >= optimal_threshold"
      ],
      "execution_count": null,
      "outputs": []
    },
    {
      "cell_type": "code",
      "metadata": {
        "id": "nvk0aySg3oMs"
      },
      "source": [
        "y_pred_optimal = y_pred_optimal.astype(float)"
      ],
      "execution_count": null,
      "outputs": []
    },
    {
      "cell_type": "code",
      "metadata": {
        "id": "XJ0o2Ugc36Cm"
      },
      "source": [
        "print('테스트 정확도: ', accuracy_score(y_test, y_pred_optimal))\n",
        "\n",
        "print(classification_report(y_pred_optimal, y_test))"
      ],
      "execution_count": null,
      "outputs": []
    },
    {
      "cell_type": "markdown",
      "metadata": {
        "id": "Hyfk7wY_iakD"
      },
      "source": [
        "##특성중요도 확인 : Permutation Importances, PDP, or SHAP "
      ]
    },
    {
      "cell_type": "code",
      "metadata": {
        "id": "6IcyS57Mfj-C"
      },
      "source": [
        "permuter = PermutationImportance(\n",
        "                                pipe1.named_steps['xgbclassifier'],\n",
        "                                scoring = 'accuracy',\n",
        "                                n_iter = 5,\n",
        "                                random_state = 77\n",
        ")\n",
        "\n",
        "permuter.fit(X_val, y_val)"
      ],
      "execution_count": null,
      "outputs": []
    },
    {
      "cell_type": "code",
      "metadata": {
        "id": "dG-fGGANSEUC"
      },
      "source": [
        "feature_names = X_val.columns.tolist()\n",
        "pd.Series(permuter.feature_importances_, feature_names).sort_values(ascending=False)"
      ],
      "execution_count": null,
      "outputs": []
    },
    {
      "cell_type": "code",
      "metadata": {
        "id": "5K5TunLQRzJx"
      },
      "source": [
        "eli5.show_weights(\n",
        "    permuter,\n",
        "    top=None,\n",
        "    feature_names = feature_names\n",
        ")"
      ],
      "execution_count": null,
      "outputs": []
    },
    {
      "cell_type": "code",
      "metadata": {
        "id": "JaqKQuTRwt0S"
      },
      "source": [
        "import plotly.graph_objects as go\n",
        "importance_result = pd.DataFrame(zip(X_val.columns.tolist(), permuter.feature_importances_))\n",
        "importance_result\n",
        "\n",
        "colors = ['lightslategray', ] * len(importance_result)\n",
        "colors[3] = 'palegreen'\n",
        "# colors[17] = 'crimson'\n",
        "# colors[18] = 'royalblue'\n",
        "\n",
        "fig = go.Figure(data=[go.Bar(\n",
        "    x = importance_result[0],\n",
        "    y = importance_result[1],\n",
        "    text= importance_result[0],\n",
        "    textposition='auto',\n",
        "    marker_color = colors\n",
        ")])\n",
        "fig.update_layout(title_text = 'Feature Importance')\n",
        "fig.update_xaxes(\n",
        "    title_text = 'Feature'\n",
        ")\n",
        "fig.update_yaxes(\n",
        "    title_text = 'Importance'\n",
        ") \n",
        "fig.update_layout(\n",
        "    autosize=False,\n",
        "    width=500,\n",
        "    height=650,)\n",
        "# fig.layout.font.size = 12"
      ],
      "execution_count": null,
      "outputs": []
    },
    {
      "cell_type": "code",
      "metadata": {
        "id": "T_CF5f4WV-PT"
      },
      "source": [
        "# !pip install shap -U"
      ],
      "execution_count": null,
      "outputs": []
    },
    {
      "cell_type": "code",
      "metadata": {
        "id": "UcPaFZVtWNFf"
      },
      "source": [
        "import shap\n",
        "\n",
        "explainer = shap.TreeExplainer(pipe1.named_steps['xgbclassifier'])\n",
        "shap.initjs()\n",
        "shap_values = explainer.shap_values(X_val.iloc[:100])\n",
        "shap.force_plot(explainer.expected_value, shap_values, X_val.iloc[:100])"
      ],
      "execution_count": null,
      "outputs": []
    },
    {
      "cell_type": "markdown",
      "metadata": {
        "id": "UB98Fl7czgjX"
      },
      "source": [
        "#시각화에 필요한 자료"
      ]
    },
    {
      "cell_type": "code",
      "metadata": {
        "id": "JiXSOFiczftG"
      },
      "source": [
        "df.head()"
      ],
      "execution_count": null,
      "outputs": []
    },
    {
      "cell_type": "code",
      "metadata": {
        "id": "zDh0ZttZzrWj"
      },
      "source": [
        "hr_cnt = df.groupby('hr').cnt.mean().reset_index()"
      ],
      "execution_count": null,
      "outputs": []
    },
    {
      "cell_type": "code",
      "metadata": {
        "id": "IAGAeq1X3a4S"
      },
      "source": [
        "\n",
        "\n",
        "colors = ['lightslategray', ] * len(hr_cnt['hr'])\n",
        "colors[8] = 'lightsalmon'\n",
        "colors[17] = 'crimson'\n",
        "colors[18] = 'royalblue'\n",
        "\n",
        "fig = go.Figure(data=[go.Bar(\n",
        "    x = hr_cnt['hr'],\n",
        "    y = hr_cnt['cnt'],\n",
        "    text= hr_cnt['hr'],\n",
        "    textposition='auto',\n",
        "    marker_color = colors\n",
        ")])\n",
        "fig.update_layout(title_text = 'Average Bike Rental Counts per hour')\n",
        "fig.update_xaxes(\n",
        "    title_text = 'Hour'\n",
        ")\n",
        "fig.update_yaxes(\n",
        "    title_text = 'Rental Counts'\n",
        ") \n",
        "fig.update_layout(\n",
        "    autosize=False,\n",
        "    width=1400,\n",
        "    height=700,\n",
        "    font=dict(\n",
        "        size=18,))"
      ],
      "execution_count": null,
      "outputs": []
    },
    {
      "cell_type": "code",
      "metadata": {
        "id": "bH3J1CfxDOE2"
      },
      "source": [
        "day_cnt = df.groupby('weekday').cnt.mean().reset_index()"
      ],
      "execution_count": null,
      "outputs": []
    },
    {
      "cell_type": "code",
      "metadata": {
        "id": "Dn4Y1fZpDzxR"
      },
      "source": [
        "colors = ['lightslategray', ] * len(day_cnt['weekday'])\n",
        "colors[4] = 'forestgreen'\n",
        "# colors[17] = 'darkmagenta'\n",
        "colors[5] = 'blueviolet'\n",
        "\n",
        "fig = go.Figure(data=[go.Bar(\n",
        "    x = day_cnt['weekday'],\n",
        "    y = day_cnt['cnt'],\n",
        "    text= ['Sunday','Monday','Tuesday','Wendsday','Thursday','Friday','Saturday'],\n",
        "    textposition='auto',\n",
        "    marker_color = colors\n",
        ")])\n",
        "fig.update_layout(title_text = 'Average Bike Rental Counts per Day of the week')\n",
        "fig.update_xaxes(\n",
        "    title_text = 'Weekday'\n",
        ")\n",
        "fig.update_yaxes(\n",
        "    title_text = 'Rental Counts'\n",
        ") \n",
        "fig.update_layout(yaxis_range=[175,200])\n",
        "fig.update_layout(\n",
        "    autosize=False,\n",
        "    width=900,\n",
        "    height=700,\n",
        "    font=dict(\n",
        "        size=15,))"
      ],
      "execution_count": null,
      "outputs": []
    },
    {
      "cell_type": "markdown",
      "metadata": {
        "id": "0AQ3dstkKPhx"
      },
      "source": [
        "#결론 :\n",
        "* 날씨조건과 요일, 시간 데이터를 가지고 자전거 대여 횟수를 예측하여 정비시간을 정할 수 있다.\n",
        "* 정비 시간으로는 오전 9시부터 오후 5시까지가 적당하고, 요일로는 월요일과 일요일이 적당하다.\n",
        "\n",
        "#한계 :\n",
        "* 데이터의 양이 적어서 과적합의 위험이 있다.\n",
        "* 데이터의 특성이 너무 간단하여 영향력있는 특성을 추출하지 못한다."
      ]
    },
    {
      "cell_type": "markdown",
      "metadata": {
        "id": "jBXCmkG4jMzV"
      },
      "source": [
        "## Hour, Weekdayf 등 중요도가 높은 특성들을 제외하고 모델을 학습해서 날씨 관련 특성들의 영향력을 확인해보자."
      ]
    },
    {
      "cell_type": "code",
      "metadata": {
        "id": "eb1Bp9uqM5A7"
      },
      "source": [
        "X_train1 = df_train[feature]\n",
        "y_train1 = df_train[target]\n",
        "X_val1 = df_val[feature]\n",
        "y_val1 = df_val[target]\n",
        "X_test1 = df_test[feature]\n",
        "y_test1 = df_test[target]"
      ],
      "execution_count": null,
      "outputs": []
    },
    {
      "cell_type": "code",
      "metadata": {
        "id": "nCLzAep4M5PN"
      },
      "source": [
        "def engineer(df):\n",
        "    #1. weekday, holiday, workingday 처리\n",
        "    weekday = (df['weekday'] >= 1) & (df['weekday'] <= 4)\n",
        "    Friday = df['weekday'] == 5\n",
        "    Saturday = df['weekday'] == 6\n",
        "    Sunday = df['weekday'] == 0\n",
        "    holiday = (weekday) & (df['holiday']==1)\n",
        "\n",
        "    Friday = Friday.astype(int)\n",
        "    Saturday = Saturday.astype(int)*2\n",
        "    Sunday = Sunday.astype(int)*3\n",
        "    holiday = holiday.astype(int)*4\n",
        "    Sunday.astype(int).value_counts()\n",
        "\n",
        "    df['Weekday'] = Friday + Saturday + Sunday + holiday # 'Weekday' = 0:평일, 1:금요일, 2:토요일, 3:일요일, 4:평일 공휴일\n",
        "\n",
        "    #2. 처리 후 중복적 특성들 제거\n",
        "    dels = ['instant','weekday','workingday', 'holiday','dteday', 'hr', 'Weekday', 'atemp', 'registered', 'casual'] ##weekday, temp를 지울까 말까?\n",
        "    df.drop(dels, axis=1, inplace=True)\n",
        "\n",
        "    return df\n",
        "\n",
        "engineer(X_train1)\n",
        "engineer(X_val1)\n",
        "engineer(X_test1)"
      ],
      "execution_count": null,
      "outputs": []
    },
    {
      "cell_type": "code",
      "metadata": {
        "id": "mMI8mnaORmfA"
      },
      "source": [
        "pipe_renew.fit(X_train1, y_train1)\n",
        "\n",
        "y_pred_val1 = pipe_renew.predict(X_val1)\n",
        "\n",
        "print('검증 정확도: ', accuracy_score(y_val, y_pred_val1))\n",
        "\n",
        "print(classification_report(y_pred_val1, y_val))"
      ],
      "execution_count": null,
      "outputs": []
    },
    {
      "cell_type": "code",
      "metadata": {
        "id": "mm1F_-XcpxCL"
      },
      "source": [
        "y_train1.value_counts()"
      ],
      "execution_count": null,
      "outputs": []
    },
    {
      "cell_type": "code",
      "metadata": {
        "id": "Waoj8k6KSJIE"
      },
      "source": [
        "permuter1 = PermutationImportance(\n",
        "                                pipe_renew.named_steps['xgbclassifier'],\n",
        "                                scoring = 'accuracy',\n",
        "                                n_iter = 5,\n",
        "                                random_state = 77\n",
        ")\n",
        "\n",
        "permuter1.fit(X_val1, y_val)"
      ],
      "execution_count": null,
      "outputs": []
    },
    {
      "cell_type": "code",
      "metadata": {
        "id": "_mdLJdOLSTiz"
      },
      "source": [
        "feature_names = X_val1.columns.tolist()\n",
        "pd.Series(permuter1.feature_importances_, feature_names).sort_values(ascending=False)\n",
        "\n",
        "eli5.show_weights(\n",
        "    permuter1,\n",
        "    top=None,\n",
        "    feature_names = feature_names\n",
        ")"
      ],
      "execution_count": null,
      "outputs": []
    },
    {
      "cell_type": "code",
      "metadata": {
        "id": "6YjBBU-SSjET"
      },
      "source": [
        "y_val.value_counts(normalize=True)"
      ],
      "execution_count": null,
      "outputs": []
    },
    {
      "cell_type": "markdown",
      "metadata": {
        "id": "iQRrFgiXbhq4"
      },
      "source": [
        "## 날짜별로 묶어서 하루 총 대여횟수 확인"
      ]
    },
    {
      "cell_type": "code",
      "metadata": {
        "id": "u_4R0ahGbg8D"
      },
      "source": [
        "bydate = df.groupby('dteday').mean().drop(['hr', 'instant'], axis=1).reset_index()\n",
        "bydate.head()"
      ],
      "execution_count": null,
      "outputs": []
    },
    {
      "cell_type": "code",
      "metadata": {
        "id": "LW6lkCSzcRqk"
      },
      "source": [
        "bycnt = bydate['cnt'].sort_values(ascending=False) > 100\n",
        "bycnt.value_counts(normalize=True)"
      ],
      "execution_count": null,
      "outputs": []
    },
    {
      "cell_type": "code",
      "metadata": {
        "id": "G8kKjgr0Sr1x"
      },
      "source": [
        "proportion = bydate['dayoff'] < 0.5\n",
        "proportion.value_counts(normalize=True)\n",
        "bydate['dayoff_av'] = proportion.astype('float')"
      ],
      "execution_count": null,
      "outputs": []
    },
    {
      "cell_type": "code",
      "metadata": {
        "id": "s3Oes4HSbkqA"
      },
      "source": [
        "bydate['dayoff_av'].value_counts()"
      ],
      "execution_count": null,
      "outputs": []
    },
    {
      "cell_type": "markdown",
      "metadata": {
        "id": "crcbJrGZdFI-"
      },
      "source": [
        "# 공휴일이거나 주말인 경우에 날씨의 영향 확인"
      ]
    },
    {
      "cell_type": "code",
      "metadata": {
        "id": "NWg-OlWjdNQ0"
      },
      "source": [
        "def engineer(df):\n",
        "    #1. weekday, holiday, workingday 처리\n",
        "    weekday = (df['weekday'] >= 1) & (df['weekday'] <= 4)\n",
        "    Friday = df['weekday'] == 5\n",
        "    Saturday = df['weekday'] == 6\n",
        "    Sunday = df['weekday'] == 0\n",
        "    holiday = (weekday) & (df['holiday']==1)\n",
        "\n",
        "    Friday = Friday.astype(int)\n",
        "    Saturday = Saturday.astype(int)*2\n",
        "    Sunday = Sunday.astype(int)*3\n",
        "    holiday = holiday.astype(int)*4\n",
        "    Sunday.astype(int).value_counts()\n",
        "\n",
        "    df['Weekday'] = Friday + Saturday + Sunday + holiday # 'Weekday' = 0:평일, 1:금요일, 2:토요일, 3:일요일, 4:평일 공휴일\n",
        "\n",
        "    #2. 처리 후 중복적 특성들 제거\n",
        "    dels = ['instant','weekday','workingday', 'holiday','dteday', 'hr', 'atemp', 'registered', 'casual'] ##weekday, temp를 지울까 말까?\n",
        "    df.drop(dels, axis=1, inplace=True)\n",
        "\n",
        "    return df\n",
        "\n",
        "\n",
        "byday = engineer(df)"
      ],
      "execution_count": null,
      "outputs": []
    },
    {
      "cell_type": "code",
      "metadata": {
        "id": "JQt7wl9odsFD"
      },
      "source": [
        "byday = byday.groupby('Weekday')['cnt', 'dayoff'].mean()"
      ],
      "execution_count": null,
      "outputs": []
    },
    {
      "cell_type": "code",
      "metadata": {
        "id": "IRf5iVHigNcj"
      },
      "source": [
        "byday"
      ],
      "execution_count": null,
      "outputs": []
    },
    {
      "cell_type": "code",
      "metadata": {
        "id": "McSktv9Ndgpc"
      },
      "source": [
        "colors = ['lightslategray', ] * len(byday)\n",
        "# colors[4] = 'forestgreen'\n",
        "# colors[17] = 'darkmagenta'\n",
        "colors[1] = 'blueviolet'\n",
        "\n",
        "fig = go.Figure(data=[go.Bar(\n",
        "    x = byday.index,\n",
        "    y = 1 - byday['dayoff'],\n",
        "    text= ['Weekday','Friday','Saturday','Sunday','Holiday'],\n",
        "    textposition='auto',\n",
        "    marker_color = colors\n",
        ")])\n",
        "fig.update_layout(title_text = 'Average Dayoff per Day of the week')\n",
        "fig.update_xaxes(\n",
        "    title_text = 'Weekday'\n",
        ")\n",
        "fig.update_yaxes(\n",
        "    title_text = 'Dayoff'\n",
        ") \n",
        "fig.update_layout(yaxis_range=[0.4,0.65])\n",
        "fig.update_layout(\n",
        "    autosize=False,\n",
        "    width=900,\n",
        "    height=700,\n",
        "    font=dict(\n",
        "        size=15,))"
      ],
      "execution_count": null,
      "outputs": []
    },
    {
      "cell_type": "code",
      "metadata": {
        "id": "Ww9-wwc6inrg"
      },
      "source": [
        "df.groupby('dayoff')['temp','hum', 'windspeed'].mean()"
      ],
      "execution_count": null,
      "outputs": []
    },
    {
      "cell_type": "code",
      "metadata": {
        "id": "cpYiOEhHkKPJ"
      },
      "source": [
        "# split_point = int(len(bydate)* 4/ 5)\n",
        "# df_train1 = bydate.loc[:split_point-1,:]\n",
        "# df_test = bydate.loc[split_point :,:]\n",
        "\n",
        "# split_val = int(len(bydate)* 3/5)\n",
        "# df_train = df_train1.loc[:split_val-1,:]\n",
        "# df_val = df_train1.loc[split_val:, :]\n",
        "# df_train"
      ],
      "execution_count": null,
      "outputs": []
    },
    {
      "cell_type": "code",
      "metadata": {
        "id": "JORIXz5iqd2L"
      },
      "source": [
        "# target = 'dayoff'\n",
        "# feature = bydate.drop(target, axis=1).columns\n",
        "\n",
        "# X_train2 = df_train[feature]\n",
        "# y_train2 = df_train[target]\n",
        "# X_val2 = df_val[feature]\n",
        "# y_val2 = df_val[target]\n",
        "# X_test2 = df_test[feature]\n",
        "# y_test2 = df_test[target]"
      ],
      "execution_count": null,
      "outputs": []
    },
    {
      "cell_type": "code",
      "metadata": {
        "id": "c11UgfRzqvRR"
      },
      "source": [
        "# def engineer(df):\n",
        "#     #1. weekday, holiday, workingday 처리\n",
        "#     weekday = (df['weekday'] >= 1) & (df['weekday'] <= 4)\n",
        "#     Friday = df['weekday'] == 5\n",
        "#     Saturday = df['weekday'] == 6\n",
        "#     Sunday = df['weekday'] == 0\n",
        "#     holiday = (weekday) & (df['holiday']==1)\n",
        "\n",
        "#     Friday = Friday.astype(int)\n",
        "#     Saturday = Saturday.astype(int)*2\n",
        "#     Sunday = Sunday.astype(int)*3\n",
        "#     holiday = holiday.astype(int)*4\n",
        "#     Sunday.astype(int).value_counts()\n",
        "\n",
        "#     df['Weekday'] = Friday + Saturday + Sunday + holiday # 'Weekday' = 0:평일, 1:금요일, 2:토요일, 3:일요일, 4:평일 공휴일\n",
        "\n",
        "#     #2. 처리 후 중복적 특성들 제거\n",
        "#     dels = ['weekday','workingday', 'holiday','dteday', 'atemp', 'registered', 'casual', 'cnt'] ##weekday, temp를 지울까 말까?\n",
        "#     df.drop(dels, axis=1, inplace=True)\n",
        "\n",
        "#     return df\n",
        "\n",
        "# engineer(X_train2)\n",
        "# engineer(X_val2)\n",
        "# engineer(X_test2)"
      ],
      "execution_count": null,
      "outputs": []
    },
    {
      "cell_type": "code",
      "metadata": {
        "id": "CHlf7yEUs8op"
      },
      "source": [
        "# nontarget = y_train2.value_counts(normalize=True)[0]\n",
        "# nontarget\n",
        "# yestarget = y_train2.value_counts(normalize=True)[1]\n",
        "\n",
        "# ratio = nontarget / yestarget"
      ],
      "execution_count": null,
      "outputs": []
    },
    {
      "cell_type": "code",
      "metadata": {
        "id": "3Iw3mWK7rsdS"
      },
      "source": [
        "# model3 = XGBClassifier(\n",
        "#         n_estimators=120,\n",
        "#         max_depth=2,\n",
        "#         scale_pos_weight=ratio,\n",
        "#         learning_rate=0.15,\n",
        "#         n_jobs=-1,\n",
        "# )"
      ],
      "execution_count": null,
      "outputs": []
    },
    {
      "cell_type": "code",
      "metadata": {
        "id": "I60IL69ArOIC"
      },
      "source": [
        "# model3.fit(X_train2, y_train2)"
      ],
      "execution_count": null,
      "outputs": []
    },
    {
      "cell_type": "code",
      "metadata": {
        "id": "itWvdTkgrS3q"
      },
      "source": [
        "# y_pred = model3.predict(X_val2)\n",
        "\n",
        "\n",
        "# print('검증 정확도: ', accuracy_score(y_val2, y_pred))\n",
        "\n",
        "# print(classification_report(y_pred, y_val2))"
      ],
      "execution_count": null,
      "outputs": []
    },
    {
      "cell_type": "code",
      "metadata": {
        "id": "hCJC0RBAsxdz"
      },
      "source": [
        "# y_pred = model3.predict(X_test2)\n",
        "\n",
        "\n",
        "# print('검증 정확도: ', accuracy_score(y_test2, y_pred))\n",
        "\n",
        "# print(classification_report(y_pred, y_test2))"
      ],
      "execution_count": null,
      "outputs": []
    }
  ]
}